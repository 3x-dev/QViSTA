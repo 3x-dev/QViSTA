{
 "cells": [
  {
   "cell_type": "markdown",
   "metadata": {},
   "source": [
    "# Data loading and preprocessing"
   ]
  },
  {
   "cell_type": "code",
   "execution_count": 1,
   "metadata": {},
   "outputs": [],
   "source": [
    "import os\n",
    "import pandas as pd\n",
    "from PIL import Image\n",
    "from torchvision import transforms\n",
    "from torch.utils.data import Dataset, DataLoader\n",
    "import torch\n",
    "import matplotlib.pyplot as plt\n",
    "import numpy as np\n",
    "from sklearn.model_selection import train_test_split\n",
    "from sklearn.utils import resample"
   ]
  },
  {
   "cell_type": "code",
   "execution_count": 2,
   "metadata": {},
   "outputs": [
    {
     "name": "stdout",
     "output_type": "stream",
     "text": [
      "label\n",
      "0    10000\n",
      "1    10000\n",
      "2    10000\n",
      "3    10000\n",
      "Name: count, dtype: int64\n"
     ]
    }
   ],
   "source": [
    "# Define the path to the 'combined_images' directory\n",
    "base_path = 'combined_images'\n",
    "\n",
    "# Define the mapping of classes to numerical labels\n",
    "folders = {\n",
    "    'NonDemented': 0,\n",
    "    'VeryMildDemented': 1,\n",
    "    'MildDemented': 2,\n",
    "    'ModerateDemented': 3\n",
    "}\n",
    "\n",
    "# Prepare lists to hold file paths and labels\n",
    "file_paths = []\n",
    "labels = []\n",
    "\n",
    "# Iterate through each class directory and collect file paths and labels\n",
    "for class_name, label in folders.items():\n",
    "    class_path = os.path.join(base_path, class_name)\n",
    "    for file in os.listdir(class_path):\n",
    "        if file.endswith('.jpg') or file.endswith('.png'):\n",
    "            file_paths.append(os.path.join(class_path, file))\n",
    "            labels.append(label)\n",
    "\n",
    "# Create a DataFrame\n",
    "df = pd.DataFrame({\n",
    "    'file_path': file_paths,\n",
    "    'label': labels\n",
    "})\n",
    "\n",
    "# Downsample label 0 and label 1 to 10,000 images each\n",
    "df_label_0 = df[df['label'] == 0]\n",
    "df_label_1 = df[df['label'] == 1]\n",
    "df_label_2 = df[df['label'] == 2]\n",
    "df_label_3 = df[df['label'] == 3]\n",
    "\n",
    "df_label_0_downsampled = resample(df_label_0, n_samples=10000, random_state=42, replace=False)\n",
    "df_label_1_downsampled = resample(df_label_1, n_samples=10000, random_state=42, replace=False)\n",
    "\n",
    "# Combine the downsampled and other labels into a new dataframe\n",
    "df_downsampled = pd.concat([df_label_0_downsampled, df_label_1_downsampled, df_label_2, df_label_3])\n",
    "\n",
    "# Verify the downsampling\n",
    "print(df_downsampled['label'].value_counts())"
   ]
  },
  {
   "cell_type": "code",
   "execution_count": 3,
   "metadata": {},
   "outputs": [],
   "source": [
    "# Split the dataset with stratification\n",
    "train_df, temp_df = train_test_split(df_downsampled, test_size=0.2, stratify=df_downsampled['label'], random_state=42)\n",
    "val_df, test_df = train_test_split(temp_df, test_size=0.5, stratify=temp_df['label'], random_state=42)\n"
   ]
  },
  {
   "cell_type": "code",
   "execution_count": 4,
   "metadata": {},
   "outputs": [],
   "source": [
    "# Define the dataset class\n",
    "class SimpleMRIDataset(Dataset):\n",
    "    def __init__(self, dataframe, transform=None):\n",
    "        self.dataframe = dataframe\n",
    "        self.transform = transform\n",
    "\n",
    "    def __len__(self):\n",
    "        return len(self.dataframe)\n",
    "\n",
    "    def __getitem__(self, idx):\n",
    "        row = self.dataframe.iloc[idx]\n",
    "        img_path = row['file_path']\n",
    "        image = Image.open(img_path).convert('L')  # Convert image to grayscale\n",
    "        if self.transform:\n",
    "            image = self.transform(image)\n",
    "        label = torch.tensor(row['label'], dtype=torch.long)\n",
    "        return image, label\n"
   ]
  },
  {
   "cell_type": "code",
   "execution_count": 5,
   "metadata": {},
   "outputs": [],
   "source": [
    "transformations = transforms.Compose([\n",
    "    transforms.Resize(128),\n",
    "    transforms.CenterCrop(128),\n",
    "    transforms.ToTensor(),\n",
    "    transforms.Normalize((0.3069,), (0.3185,))\n",
    "])"
   ]
  },
  {
   "cell_type": "code",
   "execution_count": 6,
   "metadata": {},
   "outputs": [],
   "source": [
    "# Create datasets and DataLoader objects\n",
    "train_dataset = SimpleMRIDataset(train_df, transform=transformations)\n",
    "val_dataset = SimpleMRIDataset(val_df, transform=transformations)\n",
    "test_dataset = SimpleMRIDataset(test_df, transform=transformations)"
   ]
  },
  {
   "cell_type": "code",
   "execution_count": 7,
   "metadata": {},
   "outputs": [],
   "source": [
    "batch_size = 16\n",
    "train_loader = DataLoader(train_dataset, batch_size=batch_size, shuffle=True)\n",
    "val_loader = DataLoader(val_dataset, batch_size=batch_size, shuffle=False)\n",
    "test_loader = DataLoader(test_dataset, batch_size=batch_size, shuffle=False)"
   ]
  },
  {
   "cell_type": "code",
   "execution_count": 8,
   "metadata": {},
   "outputs": [
    {
     "name": "stdout",
     "output_type": "stream",
     "text": [
      "Number of images in the training dataset: 32000\n",
      "Number of images in the validation dataset: 4000\n",
      "Number of images in the test dataset: 4000\n"
     ]
    }
   ],
   "source": [
    "# Print the number of images in each dataset\n",
    "print(f\"Number of images in the training dataset: {len(train_dataset)}\")\n",
    "print(f\"Number of images in the validation dataset: {len(val_dataset)}\")\n",
    "print(f\"Number of images in the test dataset: {len(test_dataset)}\")\n"
   ]
  },
  {
   "cell_type": "code",
   "execution_count": 9,
   "metadata": {},
   "outputs": [],
   "source": [
    "# def show_images_from_each_class(loader):\n",
    "#     num_images_per_class = 2\n",
    "#     fig, axes = plt.subplots(num_images_per_class, 4, figsize=(20, 10))  # Adjust the number of subplots for horizontal layout\n",
    "#     class_titles = ['Non Demented', 'Very Mild Demented', 'Mild Demented', 'Moderate Demented']\n",
    "#     images_found = {0: 0, 1: 0, 2: 0, 3: 0}  # Track the number of images found for each class\n",
    "    \n",
    "#     for images, labels in loader:\n",
    "#         for i, (image, label) in enumerate(zip(images, labels)):\n",
    "#             label_idx = label.item()\n",
    "#             if images_found[label_idx] < num_images_per_class:  # Check if fewer than 2 images from this class have been displayed\n",
    "#                 ax = axes[images_found[label_idx], label_idx]\n",
    "#                 img = image.numpy()\n",
    "#                 img = np.transpose(img, (1, 2, 0))\n",
    "#                 # If your images are grayscale, ensure you're correctly handling single-channel visualization\n",
    "#                 if img.shape[2] == 1:  # For grayscale images\n",
    "#                     ax.imshow(np.squeeze(img), cmap='gray')  # Remove the color channel\n",
    "#                 else:\n",
    "#                     ax.imshow(img)\n",
    "#                 label_text = class_titles[label_idx]\n",
    "#                 ax.set_title(label_text, fontsize=20)  # Set label size to 20\n",
    "#                 ax.axis('off')\n",
    "#                 images_found[label_idx] += 1  # Increment the count for this class\n",
    "\n",
    "#             if all(count == num_images_per_class for count in images_found.values()):  # Break the loop if we've found 2 images from all classes\n",
    "#                 break\n",
    "#         if all(count == num_images_per_class for count in images_found.values()):\n",
    "#             break\n",
    "\n",
    "#     plt.tight_layout()  # Use tight layout to minimize spacing\n",
    "#     plt.savefig('brains.png', dpi=300)  # Increase picture quality size while saving\n",
    "#     plt.show()\n",
    "\n",
    "# show_images_from_each_class(train_loader)\n"
   ]
  },
  {
   "cell_type": "markdown",
   "metadata": {},
   "source": [
    "# Model"
   ]
  },
  {
   "cell_type": "code",
   "execution_count": 10,
   "metadata": {},
   "outputs": [
    {
     "name": "stderr",
     "output_type": "stream",
     "text": [
      "Please first ``pip install -U qiskit`` to enable related functionality in translation module\n"
     ]
    }
   ],
   "source": [
    "import time\n",
    "import jax\n",
    "import pickle\n",
    "import os\n",
    "from quantum_transformers.training import train_and_evaluate\n",
    "from quantum_transformers.transformers import VisionTransformer\n",
    "from quantum_transformers.quantum_layer import get_circuit"
   ]
  },
  {
   "cell_type": "code",
   "execution_count": 11,
   "metadata": {},
   "outputs": [
    {
     "name": "stdout",
     "output_type": "stream",
     "text": [
      "TFRT_CPU_0 cpu\n"
     ]
    }
   ],
   "source": [
    "for d in jax.devices():\n",
    "    print(d, d.device_kind)"
   ]
  },
  {
   "cell_type": "code",
   "execution_count": 12,
   "metadata": {},
   "outputs": [],
   "source": [
    "num_classes=4\n",
    "patch_size=64\n",
    "hidden_size=6\n",
    "num_heads=3\n",
    "num_transformer_blocks=6\n",
    "mlp_hidden_size=5\n",
    "num_epochs = 30\n",
    "pos_embedding = 'learn'"
   ]
  },
  {
   "cell_type": "code",
   "execution_count": 13,
   "metadata": {},
   "outputs": [],
   "source": [
    "# Initialize the model\n",
    "model = VisionTransformer(\n",
    "    num_classes=num_classes,\n",
    "    patch_size=patch_size,\n",
    "    hidden_size=hidden_size,\n",
    "    num_heads=num_heads,\n",
    "    num_transformer_blocks=num_transformer_blocks,\n",
    "    mlp_hidden_size=mlp_hidden_size,\n",
    "    # quantum_attn_circuit=get_circuit(),\n",
    "    # quantum_mlp_circuit=get_circuit(),\n",
    "    pos_embedding='learn'  # Positional embedding\n",
    ")"
   ]
  },
  {
   "cell_type": "code",
   "execution_count": 14,
   "metadata": {},
   "outputs": [],
   "source": [
    "# Saving model data"
   ]
  },
  {
   "cell_type": "code",
   "execution_count": 15,
   "metadata": {},
   "outputs": [
    {
     "name": "stdout",
     "output_type": "stream",
     "text": [
      "{'num_classes': 4, 'num_epochs': 30, 'patch_size': 64, 'hidden_size': 6, 'num_heads': 3, 'num_transformer_blocks': 6, 'mlp_hidden_size': 5, 'pos_embedding': 'learn'}\n"
     ]
    }
   ],
   "source": [
    "# Hyperparameters\n",
    "\n",
    "hyperparameters = {\n",
    "    'num_classes': num_classes,\n",
    "    'num_epochs': num_epochs,\n",
    "    'patch_size': patch_size,\n",
    "    'hidden_size': hidden_size,\n",
    "    'num_heads': num_heads,\n",
    "    'num_transformer_blocks': num_transformer_blocks,\n",
    "    'mlp_hidden_size': mlp_hidden_size,\n",
    "    'pos_embedding': 'learn'\n",
    "}\n",
    "\n",
    "print(hyperparameters)"
   ]
  },
  {
   "cell_type": "code",
   "execution_count": 16,
   "metadata": {},
   "outputs": [
    {
     "name": "stdout",
     "output_type": "stream",
     "text": [
      "{'params': {'Conv_0': {'bias': (6,), 'kernel': (64, 64, 1, 6)}, 'Dense_0': {'bias': (4,), 'kernel': (6, 4)}, 'LayerNorm_0': {'bias': (6,), 'scale': (6,)}, 'TransformerBlock_0': {'FeedForward_0': {'Dense_0': {'bias': (5,), 'kernel': (6, 5)}, 'Dense_1': {'bias': (6,), 'kernel': (5, 6)}}, 'LayerNorm_0': {'bias': (6,), 'scale': (6,)}, 'LayerNorm_1': {'bias': (6,), 'scale': (6,)}, 'MultiHeadSelfAttention_0': {'Dense_0': {'bias': (6,), 'kernel': (6, 6)}, 'Dense_1': {'bias': (6,), 'kernel': (6, 6)}, 'Dense_2': {'bias': (6,), 'kernel': (6, 6)}, 'Dense_3': {'bias': (6,), 'kernel': (6, 6)}}}, 'TransformerBlock_1': {'FeedForward_0': {'Dense_0': {'bias': (5,), 'kernel': (6, 5)}, 'Dense_1': {'bias': (6,), 'kernel': (5, 6)}}, 'LayerNorm_0': {'bias': (6,), 'scale': (6,)}, 'LayerNorm_1': {'bias': (6,), 'scale': (6,)}, 'MultiHeadSelfAttention_0': {'Dense_0': {'bias': (6,), 'kernel': (6, 6)}, 'Dense_1': {'bias': (6,), 'kernel': (6, 6)}, 'Dense_2': {'bias': (6,), 'kernel': (6, 6)}, 'Dense_3': {'bias': (6,), 'kernel': (6, 6)}}}, 'TransformerBlock_2': {'FeedForward_0': {'Dense_0': {'bias': (5,), 'kernel': (6, 5)}, 'Dense_1': {'bias': (6,), 'kernel': (5, 6)}}, 'LayerNorm_0': {'bias': (6,), 'scale': (6,)}, 'LayerNorm_1': {'bias': (6,), 'scale': (6,)}, 'MultiHeadSelfAttention_0': {'Dense_0': {'bias': (6,), 'kernel': (6, 6)}, 'Dense_1': {'bias': (6,), 'kernel': (6, 6)}, 'Dense_2': {'bias': (6,), 'kernel': (6, 6)}, 'Dense_3': {'bias': (6,), 'kernel': (6, 6)}}}, 'TransformerBlock_3': {'FeedForward_0': {'Dense_0': {'bias': (5,), 'kernel': (6, 5)}, 'Dense_1': {'bias': (6,), 'kernel': (5, 6)}}, 'LayerNorm_0': {'bias': (6,), 'scale': (6,)}, 'LayerNorm_1': {'bias': (6,), 'scale': (6,)}, 'MultiHeadSelfAttention_0': {'Dense_0': {'bias': (6,), 'kernel': (6, 6)}, 'Dense_1': {'bias': (6,), 'kernel': (6, 6)}, 'Dense_2': {'bias': (6,), 'kernel': (6, 6)}, 'Dense_3': {'bias': (6,), 'kernel': (6, 6)}}}, 'TransformerBlock_4': {'FeedForward_0': {'Dense_0': {'bias': (5,), 'kernel': (6, 5)}, 'Dense_1': {'bias': (6,), 'kernel': (5, 6)}}, 'LayerNorm_0': {'bias': (6,), 'scale': (6,)}, 'LayerNorm_1': {'bias': (6,), 'scale': (6,)}, 'MultiHeadSelfAttention_0': {'Dense_0': {'bias': (6,), 'kernel': (6, 6)}, 'Dense_1': {'bias': (6,), 'kernel': (6, 6)}, 'Dense_2': {'bias': (6,), 'kernel': (6, 6)}, 'Dense_3': {'bias': (6,), 'kernel': (6, 6)}}}, 'TransformerBlock_5': {'FeedForward_0': {'Dense_0': {'bias': (5,), 'kernel': (6, 5)}, 'Dense_1': {'bias': (6,), 'kernel': (5, 6)}}, 'LayerNorm_0': {'bias': (6,), 'scale': (6,)}, 'LayerNorm_1': {'bias': (6,), 'scale': (6,)}, 'MultiHeadSelfAttention_0': {'Dense_0': {'bias': (6,), 'kernel': (6, 6)}, 'Dense_1': {'bias': (6,), 'kernel': (6, 6)}, 'Dense_2': {'bias': (6,), 'kernel': (6, 6)}, 'Dense_3': {'bias': (6,), 'kernel': (6, 6)}}}, 'pos_embedding': (1, 4, 6)}}\n",
      "Number of parameters = 26224\n",
      "Starting training for 30 epochs...\n"
     ]
    },
    {
     "name": "stderr",
     "output_type": "stream",
     "text": [
      "Epoch   1/30: 100%|██████████| 2000/2000 [02:51<00:00, 11.66batch/s, Loss = 1.1788, AUC = 74.2963%]\n"
     ]
    },
    {
     "name": "stdout",
     "output_type": "stream",
     "text": [
      "Epoch 1 completed. Validation Loss: 1.1788, Validation AUC: 74.2963%\n"
     ]
    },
    {
     "name": "stderr",
     "output_type": "stream",
     "text": [
      "Epoch   2/30: 100%|██████████| 2000/2000 [01:48<00:00, 18.41batch/s, Loss = 1.0397, AUC = 79.5953%]\n"
     ]
    },
    {
     "name": "stdout",
     "output_type": "stream",
     "text": [
      "Epoch 2 completed. Validation Loss: 1.0397, Validation AUC: 79.5953%\n"
     ]
    },
    {
     "name": "stderr",
     "output_type": "stream",
     "text": [
      "Epoch   3/30: 100%|██████████| 2000/2000 [01:39<00:00, 20.02batch/s, Loss = 0.9575, AUC = 81.8519%]\n"
     ]
    },
    {
     "name": "stdout",
     "output_type": "stream",
     "text": [
      "Epoch 3 completed. Validation Loss: 0.9575, Validation AUC: 81.8519%\n"
     ]
    },
    {
     "name": "stderr",
     "output_type": "stream",
     "text": [
      "Epoch   4/30: 100%|██████████| 2000/2000 [01:48<00:00, 18.48batch/s, Loss = 0.9618, AUC = 81.9730%]\n"
     ]
    },
    {
     "name": "stdout",
     "output_type": "stream",
     "text": [
      "Epoch 4 completed. Validation Loss: 0.9618, Validation AUC: 81.9730%\n"
     ]
    },
    {
     "name": "stderr",
     "output_type": "stream",
     "text": [
      "Epoch   5/30: 100%|██████████| 2000/2000 [01:54<00:00, 17.43batch/s, Loss = 0.9978, AUC = 82.6021%]\n"
     ]
    },
    {
     "name": "stdout",
     "output_type": "stream",
     "text": [
      "Epoch 5 completed. Validation Loss: 0.9978, Validation AUC: 82.6021%\n"
     ]
    },
    {
     "name": "stderr",
     "output_type": "stream",
     "text": [
      "Epoch   6/30: 100%|██████████| 2000/2000 [01:50<00:00, 18.15batch/s, Loss = 0.8964, AUC = 83.9712%]\n"
     ]
    },
    {
     "name": "stdout",
     "output_type": "stream",
     "text": [
      "Epoch 6 completed. Validation Loss: 0.8964, Validation AUC: 83.9712%\n"
     ]
    },
    {
     "name": "stderr",
     "output_type": "stream",
     "text": [
      "Epoch   7/30: 100%|██████████| 2000/2000 [01:32<00:00, 21.53batch/s, Loss = 0.8927, AUC = 83.6335%]\n"
     ]
    },
    {
     "name": "stdout",
     "output_type": "stream",
     "text": [
      "Epoch 7 completed. Validation Loss: 0.8927, Validation AUC: 83.6335%\n"
     ]
    },
    {
     "name": "stderr",
     "output_type": "stream",
     "text": [
      "Epoch   8/30: 100%|██████████| 2000/2000 [01:04<00:00, 31.16batch/s, Loss = 0.8736, AUC = 84.8858%]\n"
     ]
    },
    {
     "name": "stdout",
     "output_type": "stream",
     "text": [
      "Epoch 8 completed. Validation Loss: 0.8736, Validation AUC: 84.8858%\n"
     ]
    },
    {
     "name": "stderr",
     "output_type": "stream",
     "text": [
      "Epoch   9/30: 100%|██████████| 2000/2000 [00:59<00:00, 33.81batch/s, Loss = 0.8675, AUC = 85.2809%]\n"
     ]
    },
    {
     "name": "stdout",
     "output_type": "stream",
     "text": [
      "Epoch 9 completed. Validation Loss: 0.8675, Validation AUC: 85.2809%\n"
     ]
    },
    {
     "name": "stderr",
     "output_type": "stream",
     "text": [
      "Epoch  10/30: 100%|██████████| 2000/2000 [00:57<00:00, 35.02batch/s, Loss = 0.8503, AUC = 85.7305%]\n"
     ]
    },
    {
     "name": "stdout",
     "output_type": "stream",
     "text": [
      "Epoch 10 completed. Validation Loss: 0.8503, Validation AUC: 85.7305%\n"
     ]
    },
    {
     "name": "stderr",
     "output_type": "stream",
     "text": [
      "Epoch  11/30: 100%|██████████| 2000/2000 [00:55<00:00, 36.06batch/s, Loss = 0.8360, AUC = 85.8108%]\n"
     ]
    },
    {
     "name": "stdout",
     "output_type": "stream",
     "text": [
      "Epoch 11 completed. Validation Loss: 0.8360, Validation AUC: 85.8108%\n"
     ]
    },
    {
     "name": "stderr",
     "output_type": "stream",
     "text": [
      "Epoch  12/30: 100%|██████████| 2000/2000 [00:59<00:00, 33.40batch/s, Loss = 0.8212, AUC = 86.4419%]\n"
     ]
    },
    {
     "name": "stdout",
     "output_type": "stream",
     "text": [
      "Epoch 12 completed. Validation Loss: 0.8212, Validation AUC: 86.4419%\n"
     ]
    },
    {
     "name": "stderr",
     "output_type": "stream",
     "text": [
      "Epoch  13/30: 100%|██████████| 2000/2000 [00:57<00:00, 34.61batch/s, Loss = 0.8500, AUC = 86.0245%]\n"
     ]
    },
    {
     "name": "stdout",
     "output_type": "stream",
     "text": [
      "Epoch 13 completed. Validation Loss: 0.8500, Validation AUC: 86.0245%\n"
     ]
    },
    {
     "name": "stderr",
     "output_type": "stream",
     "text": [
      "Epoch  14/30: 100%|██████████| 2000/2000 [00:58<00:00, 34.38batch/s, Loss = 0.8253, AUC = 86.3774%]\n"
     ]
    },
    {
     "name": "stdout",
     "output_type": "stream",
     "text": [
      "Epoch 14 completed. Validation Loss: 0.8253, Validation AUC: 86.3774%\n"
     ]
    },
    {
     "name": "stderr",
     "output_type": "stream",
     "text": [
      "Epoch  15/30: 100%|██████████| 2000/2000 [01:12<00:00, 27.48batch/s, Loss = 0.8140, AUC = 86.6845%]\n"
     ]
    },
    {
     "name": "stdout",
     "output_type": "stream",
     "text": [
      "Epoch 15 completed. Validation Loss: 0.8140, Validation AUC: 86.6845%\n"
     ]
    },
    {
     "name": "stderr",
     "output_type": "stream",
     "text": [
      "Epoch  16/30: 100%|██████████| 2000/2000 [01:20<00:00, 24.80batch/s, Loss = 0.8274, AUC = 86.1717%]\n"
     ]
    },
    {
     "name": "stdout",
     "output_type": "stream",
     "text": [
      "Epoch 16 completed. Validation Loss: 0.8274, Validation AUC: 86.1717%\n"
     ]
    },
    {
     "name": "stderr",
     "output_type": "stream",
     "text": [
      "Epoch  17/30: 100%|██████████| 2000/2000 [01:23<00:00, 24.06batch/s, Loss = 0.8009, AUC = 86.9713%]\n"
     ]
    },
    {
     "name": "stdout",
     "output_type": "stream",
     "text": [
      "Epoch 17 completed. Validation Loss: 0.8009, Validation AUC: 86.9713%\n"
     ]
    },
    {
     "name": "stderr",
     "output_type": "stream",
     "text": [
      "Epoch  18/30: 100%|██████████| 2000/2000 [01:04<00:00, 31.08batch/s, Loss = 0.7992, AUC = 87.2154%]\n"
     ]
    },
    {
     "name": "stdout",
     "output_type": "stream",
     "text": [
      "Epoch 18 completed. Validation Loss: 0.7992, Validation AUC: 87.2154%\n"
     ]
    },
    {
     "name": "stderr",
     "output_type": "stream",
     "text": [
      "Epoch  19/30: 100%|██████████| 2000/2000 [00:56<00:00, 35.67batch/s, Loss = 0.7880, AUC = 87.3884%]\n"
     ]
    },
    {
     "name": "stdout",
     "output_type": "stream",
     "text": [
      "Epoch 19 completed. Validation Loss: 0.7880, Validation AUC: 87.3884%\n"
     ]
    },
    {
     "name": "stderr",
     "output_type": "stream",
     "text": [
      "Epoch  20/30: 100%|██████████| 2000/2000 [00:55<00:00, 35.83batch/s, Loss = 0.7868, AUC = 87.4672%]\n"
     ]
    },
    {
     "name": "stdout",
     "output_type": "stream",
     "text": [
      "Epoch 20 completed. Validation Loss: 0.7868, Validation AUC: 87.4672%\n"
     ]
    },
    {
     "name": "stderr",
     "output_type": "stream",
     "text": [
      "Epoch  21/30: 100%|██████████| 2000/2000 [00:54<00:00, 36.96batch/s, Loss = 0.7820, AUC = 87.6164%]\n"
     ]
    },
    {
     "name": "stdout",
     "output_type": "stream",
     "text": [
      "Epoch 21 completed. Validation Loss: 0.7820, Validation AUC: 87.6164%\n"
     ]
    },
    {
     "name": "stderr",
     "output_type": "stream",
     "text": [
      "Epoch  22/30: 100%|██████████| 2000/2000 [00:56<00:00, 35.34batch/s, Loss = 0.7789, AUC = 87.8993%]\n"
     ]
    },
    {
     "name": "stdout",
     "output_type": "stream",
     "text": [
      "Epoch 22 completed. Validation Loss: 0.7789, Validation AUC: 87.8993%\n"
     ]
    },
    {
     "name": "stderr",
     "output_type": "stream",
     "text": [
      "Epoch  23/30: 100%|██████████| 2000/2000 [01:09<00:00, 28.83batch/s, Loss = 0.7866, AUC = 87.8518%]\n"
     ]
    },
    {
     "name": "stdout",
     "output_type": "stream",
     "text": [
      "Epoch 23 completed. Validation Loss: 0.7866, Validation AUC: 87.8518%\n"
     ]
    },
    {
     "name": "stderr",
     "output_type": "stream",
     "text": [
      "Epoch  24/30: 100%|██████████| 2000/2000 [01:22<00:00, 24.27batch/s, Loss = 0.7729, AUC = 88.0558%]\n"
     ]
    },
    {
     "name": "stdout",
     "output_type": "stream",
     "text": [
      "Epoch 24 completed. Validation Loss: 0.7729, Validation AUC: 88.0558%\n"
     ]
    },
    {
     "name": "stderr",
     "output_type": "stream",
     "text": [
      "Epoch  25/30: 100%|██████████| 2000/2000 [01:29<00:00, 22.43batch/s, Loss = 0.7797, AUC = 87.8104%]\n"
     ]
    },
    {
     "name": "stdout",
     "output_type": "stream",
     "text": [
      "Epoch 25 completed. Validation Loss: 0.7797, Validation AUC: 87.8104%\n"
     ]
    },
    {
     "name": "stderr",
     "output_type": "stream",
     "text": [
      "Epoch  26/30: 100%|██████████| 2000/2000 [01:12<00:00, 27.47batch/s, Loss = 0.7830, AUC = 87.8152%]\n"
     ]
    },
    {
     "name": "stdout",
     "output_type": "stream",
     "text": [
      "Epoch 26 completed. Validation Loss: 0.7830, Validation AUC: 87.8152%\n"
     ]
    },
    {
     "name": "stderr",
     "output_type": "stream",
     "text": [
      "Epoch  27/30: 100%|██████████| 2000/2000 [01:02<00:00, 31.81batch/s, Loss = 0.7678, AUC = 88.2619%]\n"
     ]
    },
    {
     "name": "stdout",
     "output_type": "stream",
     "text": [
      "Epoch 27 completed. Validation Loss: 0.7678, Validation AUC: 88.2619%\n"
     ]
    },
    {
     "name": "stderr",
     "output_type": "stream",
     "text": [
      "Epoch  28/30: 100%|██████████| 2000/2000 [01:22<00:00, 24.20batch/s, Loss = 0.7642, AUC = 88.3293%]\n"
     ]
    },
    {
     "name": "stdout",
     "output_type": "stream",
     "text": [
      "Epoch 28 completed. Validation Loss: 0.7642, Validation AUC: 88.3293%\n"
     ]
    },
    {
     "name": "stderr",
     "output_type": "stream",
     "text": [
      "Epoch  29/30: 100%|██████████| 2000/2000 [01:22<00:00, 24.33batch/s, Loss = 0.7643, AUC = 88.3762%]\n"
     ]
    },
    {
     "name": "stdout",
     "output_type": "stream",
     "text": [
      "Epoch 29 completed. Validation Loss: 0.7643, Validation AUC: 88.3762%\n"
     ]
    },
    {
     "name": "stderr",
     "output_type": "stream",
     "text": [
      "Epoch  30/30: 100%|██████████| 2000/2000 [01:10<00:00, 28.54batch/s, Loss = 0.7651, AUC = 88.3919%]\n"
     ]
    },
    {
     "name": "stdout",
     "output_type": "stream",
     "text": [
      "Epoch 30 completed. Validation Loss: 0.7651, Validation AUC: 88.3919%\n",
      "Total training time = 2353.11s, best validation AUC = 88.3919% at epoch 30\n",
      "Total training time: 2356.52 seconds\n",
      "Training Losses: []\n",
      "Training AUCs: []\n",
      "Validation Losses: [Array(1.1787802, dtype=float32), Array(1.0396821, dtype=float32), Array(0.95747006, dtype=float32), Array(0.96175313, dtype=float32), Array(0.9978332, dtype=float32), Array(0.89638877, dtype=float32), Array(0.8927099, dtype=float32), Array(0.8736013, dtype=float32), Array(0.8674864, dtype=float32), Array(0.85028434, dtype=float32), Array(0.83602893, dtype=float32), Array(0.82119143, dtype=float32), Array(0.8499649, dtype=float32), Array(0.8252811, dtype=float32), Array(0.81402606, dtype=float32), Array(0.827428, dtype=float32), Array(0.80092895, dtype=float32), Array(0.7992188, dtype=float32), Array(0.78798854, dtype=float32), Array(0.7868158, dtype=float32), Array(0.7820186, dtype=float32), Array(0.7789496, dtype=float32), Array(0.78663456, dtype=float32), Array(0.7729189, dtype=float32), Array(0.7797134, dtype=float32), Array(0.78303164, dtype=float32), Array(0.7677769, dtype=float32), Array(0.7641759, dtype=float32), Array(0.7642974, dtype=float32), Array(0.76506263, dtype=float32)]\n",
      "Validation AUCs: [74.2963, 79.59530833333332, 81.85189999999999, 81.97295833333332, 82.60205, 83.97121250000001, 83.63347916666667, 84.88581666666666, 85.28089166666668, 85.73047500000001, 85.8108, 86.4419, 86.02449166666666, 86.37740000000001, 86.68452083333332, 86.17169166666666, 86.97126666666665, 87.21535833333333, 87.38843333333334, 87.46718750000001, 87.61635833333334, 87.89927083333333, 87.85183749999999, 88.05583333333334, 87.81039166666666, 87.81524583333334, 88.26193333333332, 88.32932916666665, 88.37623333333335, 88.39185]\n",
      "Best Validation AUC: 88.3919% at Epoch: 30\n"
     ]
    },
    {
     "name": "stderr",
     "output_type": "stream",
     "text": [
      "Testing: 100%|██████████| 250/250 [00:06<00:00, 38.24batch/s, Loss = 0.7599, AUC = 88.3798%]\n"
     ]
    },
    {
     "name": "stdout",
     "output_type": "stream",
     "text": [
      "Total training time: 2363.17 seconds.\n"
     ]
    }
   ],
   "source": [
    "# Variables to track time and performance\n",
    "epoch_times = []\n",
    "total_start_time = time.time()\n",
    "results = []\n",
    "\n",
    "# Start training\n",
    "start_time = time.time()\n",
    "\n",
    "test_loss, test_auc, test_fpr, test_tpr, all_logits, all_labels = train_and_evaluate(\n",
    "    model=model, \n",
    "    train_dataloader=train_loader, \n",
    "    val_dataloader=val_loader, \n",
    "    test_dataloader=test_loader, \n",
    "    num_classes=num_classes,\n",
    "    num_epochs=num_epochs\n",
    ")\n",
    "\n",
    "end_time = time.time()\n",
    "total_time = end_time - start_time\n",
    "print(f'Total training time: {total_time:.2f} seconds.')\n",
    "    "
   ]
  },
  {
   "cell_type": "markdown",
   "metadata": {},
   "source": [
    "# Metrics"
   ]
  },
  {
   "cell_type": "code",
   "execution_count": 17,
   "metadata": {},
   "outputs": [
    {
     "name": "stdout",
     "output_type": "stream",
     "text": [
      "              precision    recall  f1-score   support\n",
      "\n",
      "           0       0.63      0.63      0.63      1000\n",
      "           1       0.49      0.44      0.47      1000\n",
      "           2       0.66      0.66      0.66      1000\n",
      "           3       0.82      0.90      0.85      1000\n",
      "\n",
      "    accuracy                           0.66      4000\n",
      "   macro avg       0.65      0.66      0.65      4000\n",
      "weighted avg       0.65      0.66      0.65      4000\n",
      "\n"
     ]
    }
   ],
   "source": [
    "from sklearn.metrics import classification_report\n",
    "\n",
    "# Assuming binary classification with logits as probabilities\n",
    "#predicted_labels = (all_logits > 0.5).astype(int)\n",
    "\n",
    "# For binary classification with raw scores or multi-class classification\n",
    "predicted_labels = np.argmax(all_logits, axis=1)\n",
    "\n",
    "true_labels = all_labels\n",
    "\n",
    "print(classification_report(true_labels, predicted_labels))\n"
   ]
  },
  {
   "cell_type": "code",
   "execution_count": 18,
   "metadata": {},
   "outputs": [
    {
     "data": {
      "image/png": "[encoded data removed]",
      "text/plain": [
       "<Figure size 800x600 with 2 Axes>"
      ]
     },
     "metadata": {},
     "output_type": "display_data"
    }
   ],
   "source": [
    "import matplotlib.pyplot as plt\n",
    "import seaborn as sns\n",
    "from sklearn.metrics import confusion_matrix, classification_report\n",
    "import numpy as np\n",
    "import pandas as pd\n",
    "\n",
    "# Folder names mapping\n",
    "folders = {\n",
    "    'Non Demented': 0,\n",
    "    'Very Mild Demented': 1,\n",
    "    'Mild Demented': 2,\n",
    "    'Moderate Demented': 3\n",
    "}\n",
    "\n",
    "# Assuming you already have predicted_labels and true_labels from your previous code\n",
    "conf_matrix = confusion_matrix(true_labels, predicted_labels)\n",
    "\n",
    "# Reverse the dictionary to get the labels\n",
    "labels = {v: k for k, v in folders.items()}\n",
    "\n",
    "fig, ax = plt.subplots(figsize=(8, 6))  # Set the size of the figure\n",
    "\n",
    "# Create a heatmap for the confusion matrix\n",
    "sns.heatmap(conf_matrix, annot=True, fmt='d', cmap='Reds', ax=ax,\n",
    "            xticklabels=[labels[i] for i in range(len(labels))],\n",
    "            yticklabels=[labels[i] for i in range(len(labels))])\n",
    "\n",
    "# Labels, title, and ticks\n",
    "label_font = {'size':'12'}  # Adjust to fit\n",
    "ax.set_xlabel('Predicted labels', fontdict=label_font)\n",
    "ax.set_ylabel('True labels', fontdict=label_font)\n",
    "ax.set_title('Transformer Multi-Class Confusion Matrix', fontdict={'size':14})  # Adjust to fit\n",
    "ax.tick_params(axis='both', which='major', labelsize=10)  # Adjust to fit\n",
    "\n",
    "# Save the figure\n",
    "#plt.savefig('confusion_matrix.png')\n",
    "plt.show()\n"
   ]
  },
  {
   "cell_type": "code",
   "execution_count": 19,
   "metadata": {},
   "outputs": [
    {
     "data": {
      "image/png": "[encoded data removed]",
      "text/plain": [
       "<Figure size 1000x800 with 1 Axes>"
      ]
     },
     "metadata": {},
     "output_type": "display_data"
    }
   ],
   "source": [
    "from sklearn.metrics import roc_curve, auc, roc_auc_score\n",
    "from sklearn.preprocessing import label_binarize\n",
    "from itertools import cycle\n",
    "import matplotlib.pyplot as plt\n",
    "\n",
    "# Assuming true_labels and all_logits are defined\n",
    "# Folder names mapping\n",
    "folders = {\n",
    "    'Non Demented': 0,\n",
    "    'Very Mild Demented': 1,\n",
    "    'Mild Demented': 2,\n",
    "    'Moderate Demented': 3\n",
    "}\n",
    "\n",
    "# Inverse mapping for plotting\n",
    "folder_names = {v: k for k, v in folders.items()}\n",
    "\n",
    "# Binarize the output labels for multi-class\n",
    "y = label_binarize(true_labels, classes=[0, 1, 2, 3])\n",
    "n_classes = y.shape[1]\n",
    "\n",
    "# Compute ROC curve and ROC area for each class\n",
    "fpr = dict()\n",
    "tpr = dict()\n",
    "roc_auc = dict()\n",
    "for i in range(n_classes):\n",
    "    fpr[i], tpr[i], _ = roc_curve(y[:, i], all_logits[:, i])\n",
    "    roc_auc[i] = auc(fpr[i], tpr[i])\n",
    "\n",
    "# Plot all ROC curves\n",
    "plt.figure(figsize=(10, 8))\n",
    "lw = 2\n",
    "colors = cycle(['red', 'blue', 'green', 'purple'])\n",
    "for i, color in zip(range(n_classes), colors):\n",
    "    plt.plot(fpr[i], tpr[i], color=color, lw=lw,\n",
    "             label='ROC curve of {0} (area = {1:0.2f})'.format(folder_names[i], roc_auc[i]))\n",
    "\n",
    "plt.plot([0, 1], [0, 1], 'k--', lw=lw)\n",
    "plt.xlim([0.0, 1.0])\n",
    "plt.ylim([0.0, 1.05])\n",
    "plt.xlabel('False Positive Rate')\n",
    "plt.ylabel('True Positive Rate')\n",
    "plt.title('Transformer Multi-Class ROC Curves')\n",
    "plt.legend(loc=\"lower right\")\n",
    "plt.show()\n"
   ]
  },
  {
   "cell_type": "markdown",
   "metadata": {},
   "source": [
    "# Normalization calculation"
   ]
  },
  {
   "cell_type": "code",
   "execution_count": 20,
   "metadata": {},
   "outputs": [],
   "source": [
    "# import torch\n",
    "\n",
    "# def compute_mean_std(loader):\n",
    "#     # Variables to store the sum, squared sum, and the number of samples\n",
    "#     sum = 0.0\n",
    "#     squared_sum = 0.0\n",
    "#     num_samples = 0.0\n",
    "    \n",
    "#     for images, _ in loader:\n",
    "        \n",
    "#         # Accumulate the number of samples\n",
    "#         num_samples += images.size(0)\n",
    "        \n",
    "#         # Flatten the images to compute the sum and squared sum across all pixels\n",
    "#         images = images.view(images.size(0), images.size(1), -1)\n",
    "#         sum += images.mean(2).sum(0)\n",
    "#         squared_sum += (images ** 2).mean(2).sum(0)\n",
    "    \n",
    "#     # Compute the mean and standard deviation\n",
    "#     mean = sum / num_samples\n",
    "#     std = (squared_sum / num_samples - mean ** 2) ** 0.5\n",
    "    \n",
    "#     return mean, std\n",
    "\n",
    "# # Assuming the train_loader is defined and loaded with your dataset\n",
    "# mean, std = compute_mean_std(train_loader)\n",
    "\n",
    "# print(f\"Mean: {mean}\")\n",
    "# print(f\"Std: {std}\")\n"
   ]
  },
  {
   "cell_type": "markdown",
   "metadata": {},
   "source": [
    "# Adding images"
   ]
  },
  {
   "cell_type": "code",
   "execution_count": 21,
   "metadata": {},
   "outputs": [],
   "source": [
    "# import os\n",
    "# import pandas as pd\n",
    "# from PIL import Image\n",
    "# from torchvision import transforms\n",
    "# from torch.utils.data import Dataset, DataLoader\n",
    "# import torch\n",
    "# import numpy as np\n",
    "# from sklearn.model_selection import train_test_split\n",
    "# from sklearn.utils import resample\n",
    "\n",
    "# # Define the path to the 'combined_images' directory\n",
    "# base_path = 'combined_images'\n",
    "\n",
    "# # Define the mapping of classes to numerical labels\n",
    "# folders = {\n",
    "#     'NonDemented': 0,\n",
    "#     'VeryMildDemented': 1,\n",
    "#     'MildDemented': 2,\n",
    "#     'ModerateDemented': 3\n",
    "# }\n",
    "\n",
    "# # Prepare lists to hold file paths and labels\n",
    "# file_paths = []\n",
    "# labels = []\n",
    "\n",
    "# # Iterate through each class directory and collect file paths and labels\n",
    "# for class_name, label in folders.items():\n",
    "#     class_path = os.path.join(base_path, class_name)\n",
    "#     for file in os.listdir(class_path):\n",
    "#         if file.endswith('.jpg') or file.endswith('.png'):\n",
    "#             file_paths.append(os.path.join(class_path, file))\n",
    "#             labels.append(label)\n",
    "\n",
    "# # Create a DataFrame\n",
    "# df = pd.DataFrame({\n",
    "#     'file_path': file_paths,\n",
    "#     'label': labels\n",
    "# })\n",
    "\n",
    "# # Separate DataFrames for labels 2 and 3\n",
    "# df_label_2 = df[df['label'] == 2]\n",
    "# df_label_3 = df[df['label'] == 3]\n",
    "\n",
    "# # Define the transformation/augmentation\n",
    "# transformations = transforms.Compose([\n",
    "#     transforms.RandomHorizontalFlip(),\n",
    "#     transforms.RandomRotation(5),\n",
    "#     # transforms.Resize(64),\n",
    "#     # transforms.CenterCrop(64),\n",
    "#     transforms.ToTensor(),\n",
    "#     # transforms.Normalize((0.3092,), (0.3144,))\n",
    "# ])\n",
    "\n",
    "# # Function to save augmented images\n",
    "# def augment_and_save(df, label_name, current_count, target_count=10000):\n",
    "#     output_folder = os.path.join(base_path, f'{label_name}')\n",
    "#     os.makedirs(output_folder, exist_ok=True)\n",
    "\n",
    "#     added_count = 0\n",
    "#     while current_count + added_count < target_count:\n",
    "#         for index, row in df.iterrows():\n",
    "#             if current_count + added_count >= target_count:\n",
    "#                 break\n",
    "#             img_path = row['file_path']\n",
    "#             image = Image.open(img_path).convert('L')  # Convert image to grayscale\n",
    "#             augmented_image = transformations(image)\n",
    "#             augmented_image = augmented_image.mul(255).byte().numpy().transpose((1, 2, 0))\n",
    "\n",
    "#             augmented_image_pil = Image.fromarray(augmented_image.squeeze(), 'L')\n",
    "#             save_path = os.path.join(output_folder, f'aug_{current_count + added_count}_{os.path.basename(img_path)}')\n",
    "#             augmented_image_pil.save(save_path)\n",
    "#             added_count += 1\n",
    "\n",
    "# # Calculate the number of images to augment for each label\n",
    "# current_label_2_count = len(df_label_2)\n",
    "# current_label_3_count = len(df_label_3)\n",
    "\n",
    "# augment_and_save(df_label_2, 'MildDemented', current_label_2_count)\n",
    "# augment_and_save(df_label_3, 'ModerateDemented', current_label_3_count)\n",
    "\n",
    "# print(f\"Augmented images for labels 2 and 3 have been saved in their respective folders.\")\n"
   ]
  },
  {
   "cell_type": "code",
   "execution_count": 22,
   "metadata": {},
   "outputs": [
    {
     "name": "stdout",
     "output_type": "stream",
     "text": [
      "Total number of samples: 32000\n"
     ]
    }
   ],
   "source": [
    "# def count_samples(loader):\n",
    "#     sample_count = 0\n",
    "#     for images, labels in loader:\n",
    "#         sample_count += len(images)\n",
    "#     return sample_count\n",
    "\n",
    "# total_samples = count_samples(train_loader)\n",
    "# print(f\"Total number of samples: {total_samples}\")\n"
   ]
  }
 ],
 "metadata": {
  "kernelspec": {
   "display_name": "quantum-transformers-tX3w6yAK-py3.11",
   "language": "python",
   "name": "python3"
  },
  "language_info": {
   "codemirror_mode": {
    "name": "ipython",
    "version": 3
   },
   "file_extension": ".py",
   "mimetype": "text/x-python",
   "name": "python",
   "nbconvert_exporter": "python",
   "pygments_lexer": "ipython3",
   "version": "3.11.4"
  }
 },
 "nbformat": 4,
 "nbformat_minor": 2
}
